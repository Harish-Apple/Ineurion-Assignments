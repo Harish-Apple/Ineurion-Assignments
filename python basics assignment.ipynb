{
 "cells": [
  {
   "cell_type": "markdown",
   "metadata": {},
   "source": [
    "#### 1.Write a program which will find all such numbers which are divisible by 7 but are not multiple of 5, between 2000 and 3200 (both included). The numbers obtained should be printed in a comma-separated sequence on a single line."
   ]
  },
  {
   "cell_type": "code",
   "execution_count": 1,
   "metadata": {},
   "outputs": [
    {
     "name": "stdout",
     "output_type": "stream",
     "text": [
      "2030,2065,2100,2135,2170,2205,2240,2275,2310,2345,2380,2415,2450,2485,2520,2555,2590,2625,2660,2695,2730,2765,2800,2835,2870,2905,2940,2975,3010,3045,3080,3115,3150,3185\n"
     ]
    }
   ],
   "source": [
    "CS = []\n",
    "for x in range(2000,3200): # we are giving the range to get data in between\n",
    "    if (x%7==0) and (x%5==0):  # we are giving divisible numbers here\n",
    "        CS.append(str(x)) # now we are appending the list with range using string function\n",
    "        \n",
    "print(\",\".join(CS))  # data will get printed in a sequence on a single line"
   ]
  },
  {
   "cell_type": "code",
   "execution_count": null,
   "metadata": {},
   "outputs": [],
   "source": []
  },
  {
   "cell_type": "code",
   "execution_count": null,
   "metadata": {},
   "outputs": [],
   "source": []
  },
  {
   "cell_type": "code",
   "execution_count": null,
   "metadata": {},
   "outputs": [],
   "source": []
  },
  {
   "cell_type": "markdown",
   "metadata": {},
   "source": [
    "#### 2.Write a Python program to accept the user's first and last name and then getting themprinted in the the reverse order with a space between first name and last name."
   ]
  },
  {
   "cell_type": "code",
   "execution_count": 2,
   "metadata": {},
   "outputs": [
    {
     "name": "stdout",
     "output_type": "stream",
     "text": [
      "enter users first name :  Harish babu\n"
     ]
    }
   ],
   "source": [
    "Firstname = input(\"enter users first name :\")   # Giving input of an first name"
   ]
  },
  {
   "cell_type": "code",
   "execution_count": 3,
   "metadata": {},
   "outputs": [
    {
     "name": "stdout",
     "output_type": "stream",
     "text": [
      "enter users lastname : O\n"
     ]
    }
   ],
   "source": [
    "Lastname = input(\"enter users lastname :\")   # Giving input of an last name"
   ]
  },
  {
   "cell_type": "code",
   "execution_count": 4,
   "metadata": {},
   "outputs": [
    {
     "name": "stdout",
     "output_type": "stream",
     "text": [
      "  Harish babu  O\n"
     ]
    }
   ],
   "source": [
    "user = (Firstname + \" \" + Lastname)   # now we are adding both the varriables but it is not reching our requirement \n",
    "print(user)"
   ]
  },
  {
   "cell_type": "code",
   "execution_count": null,
   "metadata": {},
   "outputs": [],
   "source": [
    "# So our requirement is to get a output in reverse format by adding variable in reverse format we can achive it look below."
   ]
  },
  {
   "cell_type": "code",
   "execution_count": 5,
   "metadata": {},
   "outputs": [
    {
     "name": "stdout",
     "output_type": "stream",
     "text": [
      " O   Harish babu\n"
     ]
    }
   ],
   "source": [
    "\n",
    "user = (Lastname +\" \"+ Firstname)\n",
    "print(user)"
   ]
  },
  {
   "cell_type": "markdown",
   "metadata": {},
   "source": [
    "#### 3. Write a Python program to find the volume of a sphere with diameter 12 cm.Formula: V=4/3 * π * r 3"
   ]
  },
  {
   "cell_type": "code",
   "execution_count": 21,
   "metadata": {},
   "outputs": [
    {
     "name": "stdout",
     "output_type": "stream",
     "text": [
      "enter the value  1.33\n",
      "enter the pi value  3.14\n",
      "enter the radius value  216\n"
     ]
    }
   ],
   "source": [
    "v = float(input(\"enter the value\"))  # we calculated 4/3 so we got 1.33 it is given as input\n",
    "pi = float(input(\"enter the pi value\"))  # the pi value is some arround 3.14 it is given as input\n",
    "r = float(input(\"enter the radius value\")) # the r**3 is reflected as 216 because we considered radius as 6**3"
   ]
  },
  {
   "cell_type": "code",
   "execution_count": 22,
   "metadata": {},
   "outputs": [
    {
     "name": "stdout",
     "output_type": "stream",
     "text": [
      "902.0592000000001\n"
     ]
    }
   ],
   "source": [
    "# Now we are going to find the volume of a sphere with diameter\n",
    "\n",
    "Solution  = (v*pi*r)\n",
    "print(Solution)"
   ]
  },
  {
   "cell_type": "code",
   "execution_count": null,
   "metadata": {},
   "outputs": [],
   "source": []
  },
  {
   "cell_type": "code",
   "execution_count": null,
   "metadata": {},
   "outputs": [],
   "source": []
  }
 ],
 "metadata": {
  "kernelspec": {
   "display_name": "Python 3",
   "language": "python",
   "name": "python3"
  },
  "language_info": {
   "codemirror_mode": {
    "name": "ipython",
    "version": 3
   },
   "file_extension": ".py",
   "mimetype": "text/x-python",
   "name": "python",
   "nbconvert_exporter": "python",
   "pygments_lexer": "ipython3",
   "version": "3.8.5"
  }
 },
 "nbformat": 4,
 "nbformat_minor": 4
}
